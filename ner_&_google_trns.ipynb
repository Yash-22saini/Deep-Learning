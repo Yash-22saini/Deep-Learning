{
  "nbformat": 4,
  "nbformat_minor": 0,
  "metadata": {
    "colab": {
      "provenance": []
    },
    "kernelspec": {
      "name": "python3",
      "display_name": "Python 3"
    },
    "language_info": {
      "name": "python"
    }
  },
  "cells": [
    {
      "cell_type": "code",
      "execution_count": null,
      "metadata": {
        "id": "xgZkjWUSBJV2"
      },
      "outputs": [],
      "source": [
        "#!pip install spacy\n",
        "#!python -m spacy download en_core_web_sm\n"
      ]
    },
    {
      "cell_type": "code",
      "source": [
        "import spacy\n",
        "\n",
        "# Load English NER model\n",
        "nlp = spacy.load(\"en_core_web_sm\")\n"
      ],
      "metadata": {
        "id": "sukbNHFqBdl_"
      },
      "execution_count": null,
      "outputs": []
    },
    {
      "cell_type": "code",
      "source": [
        "# Example text\n",
        "text = \"Apple Inc. was founded by Steve Jobs in Cupertino in 1976. Sundar Pichai is the CEO of Google.\"\n",
        "\n",
        "# Process text\n",
        "doc = nlp(text)\n",
        "\n",
        "# Print entities\n",
        "for ent in doc.ents:\n",
        "    print(f\"{ent.text:<20} | {ent.label_}\")\n"
      ],
      "metadata": {
        "colab": {
          "base_uri": "https://localhost:8080/"
        },
        "id": "4rluAlu4BxUh",
        "outputId": "adc14f83-8867-4092-845e-3cbda13e7efe"
      },
      "execution_count": null,
      "outputs": [
        {
          "output_type": "stream",
          "name": "stdout",
          "text": [
            "Apple Inc.           | ORG\n",
            "Steve Jobs           | PERSON\n",
            "Cupertino            | GPE\n",
            "1976                 | DATE\n",
            "Sundar Pichai        | PERSON\n",
            "Google               | ORG\n"
          ]
        }
      ]
    },
    {
      "cell_type": "code",
      "source": [
        "from spacy import displacy\n",
        "\n",
        "# Render visualization inside Jupyter Notebook\n",
        "displacy.render(doc, style=\"ent\", jupyter=True)\n"
      ],
      "metadata": {
        "colab": {
          "base_uri": "https://localhost:8080/",
          "height": 52
        },
        "id": "DO5X0gpZB25b",
        "outputId": "52dfff95-c3c0-443f-a3e0-298f2fefbfcc"
      },
      "execution_count": null,
      "outputs": [
        {
          "output_type": "display_data",
          "data": {
            "text/plain": [
              "<IPython.core.display.HTML object>"
            ],
            "text/html": [
              "<span class=\"tex2jax_ignore\"><div class=\"entities\" style=\"line-height: 2.5; direction: ltr\">\n",
              "<mark class=\"entity\" style=\"background: #7aecec; padding: 0.45em 0.6em; margin: 0 0.25em; line-height: 1; border-radius: 0.35em;\">\n",
              "    Apple Inc.\n",
              "    <span style=\"font-size: 0.8em; font-weight: bold; line-height: 1; border-radius: 0.35em; vertical-align: middle; margin-left: 0.5rem\">ORG</span>\n",
              "</mark>\n",
              " was founded by \n",
              "<mark class=\"entity\" style=\"background: #aa9cfc; padding: 0.45em 0.6em; margin: 0 0.25em; line-height: 1; border-radius: 0.35em;\">\n",
              "    Steve Jobs\n",
              "    <span style=\"font-size: 0.8em; font-weight: bold; line-height: 1; border-radius: 0.35em; vertical-align: middle; margin-left: 0.5rem\">PERSON</span>\n",
              "</mark>\n",
              " in \n",
              "<mark class=\"entity\" style=\"background: #feca74; padding: 0.45em 0.6em; margin: 0 0.25em; line-height: 1; border-radius: 0.35em;\">\n",
              "    Cupertino\n",
              "    <span style=\"font-size: 0.8em; font-weight: bold; line-height: 1; border-radius: 0.35em; vertical-align: middle; margin-left: 0.5rem\">GPE</span>\n",
              "</mark>\n",
              " in \n",
              "<mark class=\"entity\" style=\"background: #bfe1d9; padding: 0.45em 0.6em; margin: 0 0.25em; line-height: 1; border-radius: 0.35em;\">\n",
              "    1976\n",
              "    <span style=\"font-size: 0.8em; font-weight: bold; line-height: 1; border-radius: 0.35em; vertical-align: middle; margin-left: 0.5rem\">DATE</span>\n",
              "</mark>\n",
              ". \n",
              "<mark class=\"entity\" style=\"background: #aa9cfc; padding: 0.45em 0.6em; margin: 0 0.25em; line-height: 1; border-radius: 0.35em;\">\n",
              "    Sundar Pichai\n",
              "    <span style=\"font-size: 0.8em; font-weight: bold; line-height: 1; border-radius: 0.35em; vertical-align: middle; margin-left: 0.5rem\">PERSON</span>\n",
              "</mark>\n",
              " is the CEO of \n",
              "<mark class=\"entity\" style=\"background: #7aecec; padding: 0.45em 0.6em; margin: 0 0.25em; line-height: 1; border-radius: 0.35em;\">\n",
              "    Google\n",
              "    <span style=\"font-size: 0.8em; font-weight: bold; line-height: 1; border-radius: 0.35em; vertical-align: middle; margin-left: 0.5rem\">ORG</span>\n",
              "</mark>\n",
              ".</div></span>"
            ]
          },
          "metadata": {}
        }
      ]
    },
    {
      "cell_type": "code",
      "source": [
        "sentences = [\n",
        "    \"Elon Musk founded SpaceX in 2002 and Tesla in Palo Alto.\",\n",
        "    \"Apple Inc. was founded by Steve Jobs in Cupertino in 1976.\",\n",
        "    \"Sundar Pichai is the CEO of Google.\"\n",
        "]\n",
        "\n",
        "for sentence in sentences:\n",
        "    doc = nlp(sentence)\n",
        "    print(f\"\\nProcessing sentence: '{sentence}'\")\n",
        "    for ent in doc.ents:\n",
        "        print(f\"{ent.text:<20} | {ent.label_}\")"
      ],
      "metadata": {
        "colab": {
          "base_uri": "https://localhost:8080/"
        },
        "id": "LpiI2HkvB73a",
        "outputId": "fe0c120e-37aa-4947-90b1-a67144f43fbf"
      },
      "execution_count": null,
      "outputs": [
        {
          "output_type": "stream",
          "name": "stdout",
          "text": [
            "\n",
            "Processing sentence: 'Elon Musk founded SpaceX in 2002 and Tesla in Palo Alto.'\n",
            "Elon Musk            | PERSON\n",
            "2002                 | DATE\n",
            "Tesla                | ORG\n",
            "Palo Alto            | GPE\n",
            "\n",
            "Processing sentence: 'Apple Inc. was founded by Steve Jobs in Cupertino in 1976.'\n",
            "Apple Inc.           | ORG\n",
            "Steve Jobs           | PERSON\n",
            "Cupertino            | GPE\n",
            "1976                 | DATE\n",
            "\n",
            "Processing sentence: 'Sundar Pichai is the CEO of Google.'\n",
            "Sundar Pichai        | PERSON\n",
            "Google               | ORG\n"
          ]
        }
      ]
    },
    {
      "cell_type": "code",
      "source": [
        "# google trans\n"
      ],
      "metadata": {
        "id": "Ubcz1EtRCD2x"
      },
      "execution_count": null,
      "outputs": []
    },
    {
      "cell_type": "code",
      "source": [
        "#!pip install googletrans==4.0.0-rc1\n"
      ],
      "metadata": {
        "id": "uHQEA-GkDYof"
      },
      "execution_count": null,
      "outputs": []
    },
    {
      "cell_type": "code",
      "source": [
        "from googletrans import Translator\n",
        "translator = Translator()\n"
      ],
      "metadata": {
        "id": "l7YfNmjlDjm2"
      },
      "execution_count": null,
      "outputs": []
    },
    {
      "cell_type": "code",
      "source": [
        "# Example text\n",
        "text = \"Hello, how are you?\"\n",
        "\n",
        "# Translate to Hindi\n",
        "result = translator.translate(text, src=\"en\", dest=\"hi\")\n",
        "\n",
        "print(\"Original:\", result.origin)\n",
        "print(\"Translated:\", result.text)\n",
        "print(\"Source Language:\", result.src)\n",
        "print(\"Destination Language:\", result.dest)\n"
      ],
      "metadata": {
        "colab": {
          "base_uri": "https://localhost:8080/"
        },
        "id": "NSilZHEEEHxR",
        "outputId": "141b7470-ac03-4db0-faad-03911c5dbd62"
      },
      "execution_count": null,
      "outputs": [
        {
          "output_type": "stream",
          "name": "stdout",
          "text": [
            "Original: Hello, how are you?\n",
            "Translated: नमस्ते, आप कैसे हैं?\n",
            "Source Language: en\n",
            "Destination Language: hi\n"
          ]
        }
      ]
    },
    {
      "cell_type": "code",
      "source": [
        "sentences = [\n",
        "    \"Good morning!\",\n",
        "    \"I love programming.\",\n",
        "    \"Data Science is the future.\"\n",
        "]\n",
        "\n",
        "for s in sentences:\n",
        "    translated = translator.translate(s, src=\"en\", dest=\"hi\")  # English → hindi\n",
        "    print(f\"{s}  -->  {translated.text}\")\n"
      ],
      "metadata": {
        "colab": {
          "base_uri": "https://localhost:8080/"
        },
        "id": "MePpACLqEMMK",
        "outputId": "752e935e-8346-47a8-ac20-b75de72e169a"
      },
      "execution_count": null,
      "outputs": [
        {
          "output_type": "stream",
          "name": "stdout",
          "text": [
            "Good morning!  -->  शुभ प्रभात!\n",
            "I love programming.  -->  मुझे प्रोग्रामिंग पसंद है।\n",
            "Data Science is the future.  -->  डेटा विज्ञान भविष्य है।\n"
          ]
        }
      ]
    },
    {
      "cell_type": "code",
      "source": [
        "\n",
        "text = \"mera naam Yash hai, main jaipur mein rehta hoon , how are you\"\n",
        "\n",
        "\n",
        "result_hi = translator.translate(text, dest=\"hi\")\n",
        "print(\"Original:\", result_hi.origin)\n",
        "print(\"Detected Language:\", result_hi.src)\n",
        "print(\"Translated to Hindi:\", result_hi.text)\n",
        "\n",
        "\n",
        "result_en = translator.translate(text, dest=\"en\")\n",
        "print(\"Translated to English:\", result_en.text)"
      ],
      "metadata": {
        "colab": {
          "base_uri": "https://localhost:8080/"
        },
        "id": "wAj8vdHgEeLZ",
        "outputId": "9e5fa664-ae62-43c5-f778-de0454038bdb"
      },
      "execution_count": null,
      "outputs": [
        {
          "output_type": "stream",
          "name": "stdout",
          "text": [
            "Original: mera naam Yash hai, main jaipur mein rehta hoon , how are you\n",
            "Detected Language: hi\n",
            "Translated to Hindi: mera naam Yash hai, main jaipur mein rehta hoon , how are you\n",
            "Translated to English: My name is Yash, I live in Jaipur, How are you\n"
          ]
        }
      ]
    },
    {
      "cell_type": "code",
      "source": [
        "texts = [\n",
        "    \"hi aap kaise ho , its been so long , lets meet , jb free ho?\",\n",
        "    \"mera naam Yash hai aur main Delhi mein rehta hoon\",\n",
        "    \"Sundar Pichai is the CEO of Google\",\n",
        "    \"Steve Jobs founded Apple in 1976\",\n",
        "    \"Elon Musk founded SpaceX and Tesla\"\n",
        "]\n"
      ],
      "metadata": {
        "id": "5YPASNMpF41m"
      },
      "execution_count": null,
      "outputs": []
    },
    {
      "cell_type": "code",
      "source": [
        "for i, text in enumerate(texts, 1):\n",
        "    print(f\"\\n--- Sentence {i} ---\")\n",
        "    print(\"Original:\", text)\n",
        "\n",
        "    # 1️⃣ Translate to Hindi\n",
        "    translated_hi = translator.translate(text, dest=\"hi\")\n",
        "    print(\"Translated to Hindi:\", translated_hi.text)\n",
        "\n",
        "    # 2️⃣ Translate to English\n",
        "    translated_en = translator.translate(text, dest=\"en\")\n",
        "    print(\"Translated to English:\", translated_en.text)\n",
        "\n",
        "    # 3️⃣ NER using spaCy (on original text)\n",
        "    doc = nlp(text)\n",
        "    print(\"Named Entities:\")\n",
        "    if doc.ents:\n",
        "        for ent in doc.ents:\n",
        "            print(f\"  {ent.text:<20} | {ent.label_}\")\n",
        "    else:\n",
        "        print(\"  No entities detected\")\n",
        "\n",
        "    # Optional: visualize entities in notebook\n",
        "    # displacy.render(doc, style=\"ent\", jupyter=True)\n"
      ],
      "metadata": {
        "colab": {
          "base_uri": "https://localhost:8080/"
        },
        "id": "v-bSByuSMQAP",
        "outputId": "dcafa346-5625-4026-a730-98f281139089"
      },
      "execution_count": null,
      "outputs": [
        {
          "output_type": "stream",
          "name": "stdout",
          "text": [
            "\n",
            "--- Sentence 1 ---\n",
            "Original: hi aap kaise ho , its been so long , lets meet , jb free ho?\n",
            "Translated to Hindi: hi aap kaise ho , its been so long , lets meet , jb free ho?\n",
            "Translated to English: How are you, so long, let meat, when you are free?\n",
            "Named Entities:\n",
            "  ho                   | PERSON\n",
            "\n",
            "--- Sentence 2 ---\n",
            "Original: mera naam Yash hai aur main Delhi mein rehta hoon\n",
            "Translated to Hindi: mera naam Yash hai aur main Delhi mein rehta hoon\n",
            "Translated to English: My name is Yash and I live in Delhi\n",
            "Named Entities:\n",
            "  mera naam            | PERSON\n",
            "  Yash                 | PERSON\n",
            "  hai aur              | ORG\n",
            "  Delhi                | GPE\n",
            "\n",
            "--- Sentence 3 ---\n",
            "Original: Sundar Pichai is the CEO of Google\n",
            "Translated to Hindi: सुंदर पिचाई Google के सीईओ हैं\n",
            "Translated to English: Sundar Pichai is the CEO of Google\n",
            "Named Entities:\n",
            "  Sundar Pichai        | PERSON\n",
            "  Google               | ORG\n",
            "\n",
            "--- Sentence 4 ---\n",
            "Original: Steve Jobs founded Apple in 1976\n",
            "Translated to Hindi: स्टीव जॉब्स ने 1976 में Apple की स्थापना की\n",
            "Translated to English: Steve Jobs founded Apple in 1976\n",
            "Named Entities:\n",
            "  Steve Jobs           | PERSON\n",
            "  Apple                | ORG\n",
            "  1976                 | DATE\n",
            "\n",
            "--- Sentence 5 ---\n",
            "Original: Elon Musk founded SpaceX and Tesla\n",
            "Translated to Hindi: एलोन मस्क ने स्पेसएक्स और टेस्ला की स्थापना की\n",
            "Translated to English: Elon Musk founded SpaceX and Tesla\n",
            "Named Entities:\n",
            "  Elon Musk            | PERSON\n",
            "  Tesla                | ORG\n"
          ]
        }
      ]
    },
    {
      "cell_type": "code",
      "source": [],
      "metadata": {
        "id": "MlQsyKuZMR6o"
      },
      "execution_count": null,
      "outputs": []
    }
  ]
}