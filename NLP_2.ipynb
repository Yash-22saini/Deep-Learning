{
 "cells": [
  {
   "cell_type": "markdown",
   "id": "659b52aa",
   "metadata": {},
   "source": [
    "# Text Representation "
   ]
  },
  {
   "cell_type": "code",
   "execution_count": 1,
   "id": "a75c743c",
   "metadata": {},
   "outputs": [],
   "source": [
    "# 1. Bag of words \n",
    "# we are use countvectorization "
   ]
  },
  {
   "cell_type": "code",
   "execution_count": 9,
   "id": "9d134680",
   "metadata": {},
   "outputs": [],
   "source": [
    "import numpy as np \n",
    "import pandas as pd "
   ]
  },
  {
   "cell_type": "code",
   "execution_count": 10,
   "id": "8978975a",
   "metadata": {},
   "outputs": [
    {
     "data": {
      "text/html": [
       "<div>\n",
       "<style scoped>\n",
       "    .dataframe tbody tr th:only-of-type {\n",
       "        vertical-align: middle;\n",
       "    }\n",
       "\n",
       "    .dataframe tbody tr th {\n",
       "        vertical-align: top;\n",
       "    }\n",
       "\n",
       "    .dataframe thead th {\n",
       "        text-align: right;\n",
       "    }\n",
       "</style>\n",
       "<table border=\"1\" class=\"dataframe\">\n",
       "  <thead>\n",
       "    <tr style=\"text-align: right;\">\n",
       "      <th></th>\n",
       "      <th>text</th>\n",
       "      <th>output</th>\n",
       "    </tr>\n",
       "  </thead>\n",
       "  <tbody>\n",
       "    <tr>\n",
       "      <th>0</th>\n",
       "      <td>people watch cricket</td>\n",
       "      <td>1</td>\n",
       "    </tr>\n",
       "    <tr>\n",
       "      <th>1</th>\n",
       "      <td>player was player</td>\n",
       "      <td>1</td>\n",
       "    </tr>\n",
       "    <tr>\n",
       "      <th>2</th>\n",
       "      <td>people write comment</td>\n",
       "      <td>0</td>\n",
       "    </tr>\n",
       "    <tr>\n",
       "      <th>3</th>\n",
       "      <td>cricket play comment</td>\n",
       "      <td>0</td>\n",
       "    </tr>\n",
       "  </tbody>\n",
       "</table>\n",
       "</div>"
      ],
      "text/plain": [
       "                   text  output\n",
       "0  people watch cricket       1\n",
       "1     player was player       1\n",
       "2  people write comment       0\n",
       "3  cricket play comment       0"
      ]
     },
     "execution_count": 10,
     "metadata": {},
     "output_type": "execute_result"
    }
   ],
   "source": [
    "df = pd.DataFrame({'text':['people watch cricket' , 'player was player' , \n",
    "                           'people write comment' ,\n",
    "                           'cricket play comment' ] , 'output':[1,1,0,0]})\n",
    "\n",
    "df"
   ]
  },
  {
   "cell_type": "code",
   "execution_count": 11,
   "id": "546af76d",
   "metadata": {},
   "outputs": [],
   "source": [
    "from sklearn.feature_extraction.text import CountVectorizer "
   ]
  },
  {
   "cell_type": "code",
   "execution_count": 12,
   "id": "42c290ba",
   "metadata": {},
   "outputs": [],
   "source": [
    "cv = CountVectorizer() "
   ]
  },
  {
   "cell_type": "code",
   "execution_count": 14,
   "id": "e01ec664",
   "metadata": {},
   "outputs": [],
   "source": [
    "bow = cv.fit_transform(df['text'])"
   ]
  },
  {
   "cell_type": "code",
   "execution_count": 8,
   "id": "581f57e7",
   "metadata": {},
   "outputs": [
    {
     "name": "stdout",
     "output_type": "stream",
     "text": [
      "{'people': 2, 'watch': 6, 'cricket': 1, 'player': 4, 'was': 5, 'write': 7, 'comment': 0, 'play': 3}\n"
     ]
    }
   ],
   "source": [
    "# vocab \n",
    "print(cv.vocabulary_)"
   ]
  },
  {
   "cell_type": "code",
   "execution_count": 9,
   "id": "cd3b1f38",
   "metadata": {},
   "outputs": [
    {
     "name": "stdout",
     "output_type": "stream",
     "text": [
      "[[0 1 1 0 0 0 1 0]]\n",
      "[[0 0 0 0 2 1 0 0]]\n"
     ]
    }
   ],
   "source": [
    "print(bow[0].toarray()) \n",
    "print(bow[1].toarray())"
   ]
  },
  {
   "cell_type": "code",
   "execution_count": 10,
   "id": "49df6643",
   "metadata": {},
   "outputs": [
    {
     "data": {
      "text/plain": [
       "array([[2, 2, 0, 0, 0, 0, 1, 1]], dtype=int64)"
      ]
     },
     "execution_count": 10,
     "metadata": {},
     "output_type": "execute_result"
    }
   ],
   "source": [
    "cv.transform([\"cricket watch and write comment of cricket comment\"]).toarray()"
   ]
  },
  {
   "cell_type": "code",
   "execution_count": 11,
   "id": "56c9aac8",
   "metadata": {},
   "outputs": [],
   "source": [
    "# 2.N-grams"
   ]
  },
  {
   "cell_type": "code",
   "execution_count": 12,
   "id": "6a103e62",
   "metadata": {},
   "outputs": [],
   "source": [
    "# cv = CountVectorizer(ngram_range(2,2))"
   ]
  },
  {
   "cell_type": "code",
   "execution_count": 24,
   "id": "668dfbea",
   "metadata": {},
   "outputs": [],
   "source": [
    "v = CountVectorizer(ngram_range=(1, 2))\n",
    "\n",
    "# v = CountVectorizer(ngram_range=(2, 2))"
   ]
  },
  {
   "cell_type": "code",
   "execution_count": 25,
   "id": "86556bdf",
   "metadata": {},
   "outputs": [],
   "source": [
    "bow =  v.fit_transform(df['text'])"
   ]
  },
  {
   "cell_type": "code",
   "execution_count": 27,
   "id": "f313a1fb",
   "metadata": {},
   "outputs": [
    {
     "data": {
      "text/plain": [
       "0    people watch cricket\n",
       "1       player was player\n",
       "2    people write comment\n",
       "3    cricket play comment\n",
       "Name: text, dtype: object"
      ]
     },
     "execution_count": 27,
     "metadata": {},
     "output_type": "execute_result"
    }
   ],
   "source": [
    "df['text']"
   ]
  },
  {
   "cell_type": "code",
   "execution_count": 26,
   "id": "7c8ac1b3",
   "metadata": {},
   "outputs": [
    {
     "name": "stdout",
     "output_type": "stream",
     "text": [
      "{'people': 3, 'watch': 12, 'cricket': 1, 'people watch': 4, 'watch cricket': 13, 'player': 8, 'was': 10, 'player was': 9, 'was player': 11, 'write': 14, 'comment': 0, 'people write': 5, 'write comment': 15, 'play': 6, 'cricket play': 2, 'play comment': 7}\n"
     ]
    }
   ],
   "source": [
    "# vocab\n",
    "print(v.vocabulary_)"
   ]
  },
  {
   "cell_type": "code",
   "execution_count": 16,
   "id": "f77cb12d",
   "metadata": {},
   "outputs": [],
   "source": [
    "# TF(Term Frequencey) --> ek document m kisi word ka kitna contribution h\n",
    "# IDF(Inverse Document Frequencey) --> "
   ]
  },
  {
   "cell_type": "code",
   "execution_count": 17,
   "id": "4255f682",
   "metadata": {},
   "outputs": [],
   "source": [
    "# TF(t,d) = (Number of occurences of term t in document d) / (Total number of terms in the document d) \n",
    "\n",
    "# example ==>\n",
    "# d1 = people watch cricket. \n",
    "\n",
    "# tf(people,d1) = 1/3 \n",
    "\n",
    "# d2 = match was match. \n",
    "# tf(match , d2) = 2/3 "
   ]
  },
  {
   "cell_type": "code",
   "execution_count": 18,
   "id": "af65025f",
   "metadata": {},
   "outputs": [],
   "source": [
    "# IDF(t) = log(Total number of documents in the corpus) / (Number of documents with term t in them) \n",
    "# here corpus means the number of sentences\n",
    "\n",
    "# Example ==>\n",
    "# d1 = people watch cricket . \n",
    "# d2 = cricket was cricket . \n",
    "# d3 = people write comment .\n",
    "# d4 = cricket write comment . \n",
    "\n",
    "# idf(cricket) = log(4/4)\n",
    "# idf(people) = log(4/2) "
   ]
  },
  {
   "cell_type": "code",
   "execution_count": 19,
   "id": "f3388f19",
   "metadata": {},
   "outputs": [],
   "source": [
    "# we can use this by apply feature_extraction method in sklearn "
   ]
  },
  {
   "cell_type": "code",
   "execution_count": 20,
   "id": "4207046a",
   "metadata": {},
   "outputs": [
    {
     "data": {
      "text/html": [
       "<div>\n",
       "<style scoped>\n",
       "    .dataframe tbody tr th:only-of-type {\n",
       "        vertical-align: middle;\n",
       "    }\n",
       "\n",
       "    .dataframe tbody tr th {\n",
       "        vertical-align: top;\n",
       "    }\n",
       "\n",
       "    .dataframe thead th {\n",
       "        text-align: right;\n",
       "    }\n",
       "</style>\n",
       "<table border=\"1\" class=\"dataframe\">\n",
       "  <thead>\n",
       "    <tr style=\"text-align: right;\">\n",
       "      <th></th>\n",
       "      <th>text</th>\n",
       "      <th>output</th>\n",
       "    </tr>\n",
       "  </thead>\n",
       "  <tbody>\n",
       "    <tr>\n",
       "      <th>0</th>\n",
       "      <td>people watch cricket</td>\n",
       "      <td>1</td>\n",
       "    </tr>\n",
       "    <tr>\n",
       "      <th>1</th>\n",
       "      <td>player was player</td>\n",
       "      <td>1</td>\n",
       "    </tr>\n",
       "    <tr>\n",
       "      <th>2</th>\n",
       "      <td>people write comment</td>\n",
       "      <td>0</td>\n",
       "    </tr>\n",
       "    <tr>\n",
       "      <th>3</th>\n",
       "      <td>cricket play comment</td>\n",
       "      <td>0</td>\n",
       "    </tr>\n",
       "  </tbody>\n",
       "</table>\n",
       "</div>"
      ],
      "text/plain": [
       "                   text  output\n",
       "0  people watch cricket       1\n",
       "1     player was player       1\n",
       "2  people write comment       0\n",
       "3  cricket play comment       0"
      ]
     },
     "execution_count": 20,
     "metadata": {},
     "output_type": "execute_result"
    }
   ],
   "source": [
    "df"
   ]
  },
  {
   "cell_type": "code",
   "execution_count": 21,
   "id": "c154d602",
   "metadata": {},
   "outputs": [
    {
     "data": {
      "text/plain": [
       "array([[0.        , 0.52640543, 0.52640543, 0.        , 0.        ,\n",
       "        0.        , 0.66767854, 0.        ],\n",
       "       [0.        , 0.        , 0.        , 0.        , 0.89442719,\n",
       "        0.4472136 , 0.        , 0.        ],\n",
       "       [0.52640543, 0.        , 0.52640543, 0.        , 0.        ,\n",
       "        0.        , 0.        , 0.66767854],\n",
       "       [0.52640543, 0.52640543, 0.        , 0.66767854, 0.        ,\n",
       "        0.        , 0.        , 0.        ]])"
      ]
     },
     "execution_count": 21,
     "metadata": {},
     "output_type": "execute_result"
    }
   ],
   "source": [
    "from sklearn.feature_extraction.text import TfidfVectorizer  # text ko numbers me convert krega \n",
    "\n",
    "\n",
    "tfidf = TfidfVectorizer() \n",
    "tfidf.fit_transform(df['text']).toarray()"
   ]
  },
  {
   "cell_type": "code",
   "execution_count": 22,
   "id": "76098363",
   "metadata": {},
   "outputs": [
    {
     "name": "stdout",
     "output_type": "stream",
     "text": [
      "[1.51082562 1.51082562 1.51082562 1.91629073 1.91629073 1.91629073\n",
      " 1.91629073 1.91629073]\n",
      "['comment' 'cricket' 'people' 'play' 'player' 'was' 'watch' 'write']\n"
     ]
    }
   ],
   "source": [
    "print(tfidf.idf_)\n",
    "print(tfidf.get_feature_names_out())"
   ]
  },
  {
   "cell_type": "code",
   "execution_count": null,
   "id": "bfe878a4-4f2f-447e-929d-d0f76788a6a0",
   "metadata": {},
   "outputs": [],
   "source": []
  },
  {
   "cell_type": "code",
   "execution_count": 17,
   "id": "965748a2-848a-4659-a0c1-a24fd8d0f313",
   "metadata": {},
   "outputs": [
    {
     "name": "stdout",
     "output_type": "stream",
     "text": [
      "['good' 'is' 'love' 'python' 'useful']\n",
      "[[0.         0.         0.861037   0.50854232 0.        ]\n",
      " [0.72033345 0.54783215 0.         0.42544054 0.        ]\n",
      " [0.         0.54783215 0.         0.42544054 0.72033345]]\n"
     ]
    }
   ],
   "source": [
    "# i love python \n",
    "# python is good\n",
    "# python is useful\n",
    "\n",
    "import pandas as pd\n",
    "from sklearn.feature_extraction.text import TfidfVectorizer\n",
    "\n",
    "\n",
    "df = pd.DataFrame({\n",
    "    'text': [\n",
    "        'i love python',\n",
    "        'python is good',\n",
    "        'python is useful'\n",
    "    ],\n",
    "    'output': [1, 0, 0]   \n",
    "})\n",
    "\n",
    "vectorizer = TfidfVectorizer()\n",
    "\n",
    "X = vectorizer.fit_transform(df['text'])\n",
    "\n",
    "print(vectorizer.get_feature_names_out())\n",
    "\n",
    "print(X.toarray())"
   ]
  },
  {
   "cell_type": "code",
   "execution_count": null,
   "id": "ed4cbe13-4b25-4e03-a36b-f0506e20158e",
   "metadata": {},
   "outputs": [],
   "source": []
  }
 ],
 "metadata": {
  "kernelspec": {
   "display_name": "Python 3 (ipykernel)",
   "language": "python",
   "name": "python3"
  },
  "language_info": {
   "codemirror_mode": {
    "name": "ipython",
    "version": 3
   },
   "file_extension": ".py",
   "mimetype": "text/x-python",
   "name": "python",
   "nbconvert_exporter": "python",
   "pygments_lexer": "ipython3",
   "version": "3.13.5"
  }
 },
 "nbformat": 4,
 "nbformat_minor": 5
}
