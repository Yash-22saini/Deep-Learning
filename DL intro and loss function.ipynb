{
  "nbformat": 4,
  "nbformat_minor": 0,
  "metadata": {
    "colab": {
      "provenance": []
    },
    "kernelspec": {
      "name": "python3",
      "display_name": "Python 3"
    },
    "language_info": {
      "name": "python"
    }
  },
  "cells": [
    {
      "cell_type": "code",
      "execution_count": 1,
      "metadata": {
        "id": "LHND9ypoWZf9"
      },
      "outputs": [],
      "source": [
        "# Introduction to Deep Learning\n",
        "\n",
        "# less complexity , less non-linearity  ---> ML\n",
        "# high complexity , high non-linearity ---> DL"
      ]
    },
    {
      "cell_type": "code",
      "source": [
        "# # DL ---> Aritifical Neural Networks\n",
        "\n",
        "# .x11(yash)\n",
        "#               .x21(yanil)\n",
        "# .x12(dashrath)             .x31(Shashank)  ----> Output(y) Saurabh\n",
        "#                .x22(Guddu)\n",
        "# .x13(tarun)"
      ],
      "metadata": {
        "id": "O5SQyic4WsVX"
      },
      "execution_count": null,
      "outputs": []
    },
    {
      "cell_type": "code",
      "source": [
        "# dy/dx11 = (dy/dx31 * dx31/dx21 * dx21/dx11) + (dy/dx31 * dx31/dx22 * dx22/dx11)\n",
        "\n",
        "# dsaurabh/dtarun = (dsaurabh/dshashank * dshashank/dGuddu * dGuddu/dTarun) +\n",
        "# (dsaurabh/Shashank * dShashank/dyanil * dyanil/dtarun)\n",
        "\n",
        "# BackPropagation ---> Optimizer ---> Loss function minimize"
      ],
      "metadata": {
        "id": "go-lkobVXoXR"
      },
      "execution_count": 2,
      "outputs": []
    },
    {
      "cell_type": "code",
      "source": [
        "# # Workflow of Deep Learning\n",
        "# # Data Ingestion ---> Data Cleaning and Preprocessing ---->\n",
        "# Model Sequntial Architecture(\n",
        "#     input_layer(Neurons , Activation_function  , input_dimension = df.columns) ,\n",
        "#     hidden_layer(Neurons , Activation_function) ,\n",
        "#     output_layer(based_on_the+target_column_Neurons , Activation_function_based_on_target_column)\n",
        "# )\n",
        "# Model.compile(loss_function , optimizer , matrics)\n",
        "# Model.fit(input_data , target_data)\n",
        "# Model Prediction , Accuracy , Loss"
      ],
      "metadata": {
        "id": "_07JEwUgaAkG"
      },
      "execution_count": null,
      "outputs": []
    },
    {
      "cell_type": "code",
      "source": [
        "# Loss Function ----> Distance between Actual value and Predicted value .\n",
        "# In terms of regression ---> MSE , MAE\n",
        "# In terms of classification --->\n",
        "# case-1 : when we have 2 sub-categories in target column ---> Binarycrossentropy\n",
        "# case-2: when we have more than 2 sub-categories in target column ---> SparseCategoricalCrossEntropy ,\n",
        "# CategoricalCrossEntropy"
      ],
      "metadata": {
        "id": "SdTlW2cRegrr"
      },
      "execution_count": 3,
      "outputs": []
    },
    {
      "cell_type": "code",
      "source": [
        "# Optimization Technique ---> Minimize the loss function ."
      ],
      "metadata": {
        "id": "rHTnUsf7fdpK"
      },
      "execution_count": 4,
      "outputs": []
    },
    {
      "cell_type": "code",
      "source": [
        "# (1). Gradient Descent"
      ],
      "metadata": {
        "id": "OqRsGg8ofiLl"
      },
      "execution_count": 5,
      "outputs": []
    },
    {
      "cell_type": "code",
      "source": [
        "# We have a simple Line Equation\n",
        "# y = mx+b  ....(1)\n",
        "# Now , we have to calculate Loss function w.r.t. m.s.e.\n",
        "# l = 1/n (y_act-y_pred)**2\n",
        "# n = n(features) = 1\n",
        "# L = (y-y_pred)**2\n",
        "# L = (y-(mx+b))**2\n",
        "# L=(y-mx-b)**2 ......(2)\n",
        "\n",
        "# Equ(2). we will calculate diff. w.r.t. intercept(b)\n",
        "# dL/db = d(y-mx-b)**2/db = 2(y-mx-b)(-1) = -2(y-mx-b) ....(3)\n",
        "\n",
        "# Equ.(2) we will calculate diff. w.r.t. slope(m)\n",
        "# dL/dm = d(y-mx-b)**2/dm = 2(y-mx-b)(-x) = -2x(y-mx-b)  ....(4)\n",
        "\n",
        "# b_new = b_old - learniing_rate * dL/db\n",
        "# m_new = m_old - learning_rate * dL/dm\n",
        "\n",
        "# Now , Equation of New Line will be:\n",
        "# y = m_new*X + b_new"
      ],
      "metadata": {
        "id": "dQBL_AwRfkvp"
      },
      "execution_count": null,
      "outputs": []
    }
  ]
}