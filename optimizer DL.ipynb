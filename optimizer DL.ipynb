{
 "cells": [
  {
   "cell_type": "markdown",
   "id": "97887d72-69e6-4d31-a384-9cfc9e752b43",
   "metadata": {},
   "source": [
    "# An optimizer refers to an algorithm or method that adjusts the parameters of a neural network during the training process in order to minimize the loss function and improve the model's performance. The primary goal of optimization in deep learning is to find the optimal set of parameters that allow the neural network to make accurate predictions on new, unseen data. \n",
    "Optimizers play a crucial role in the training of neural networks because they determine how the model's parameters are\n",
    "updated in response to the gradients of the loss function with respect to those parameters. Gradients represent the direction of\n",
    "steepest ascent of the loss function, so by adjusting the parameters in the opposite direction of the gradients, the optimizer\n",
    "helps the model converge towards the optimal parameter values that minimize the loss function."
   ]
  },
  {
   "cell_type": "markdown",
   "id": "9fc3d334-8178-440d-8231-cf3387fb9771",
   "metadata": {},
   "source": [
    "# Optmizers in Deep Learning ---- >\n",
    "# (1). Stoacstic Gradient Descent --- > Momentum(0.9) --- > NAG(nestrov Accelrated Gradient) --- >\n",
    "# AdaGrad --- > RMSProp ---- > Adam(Momentum + RMSprop)"
   ]
  },
  {
   "cell_type": "markdown",
   "id": "25875d75-19a4-4325-97d7-8e1a05dd66f2",
   "metadata": {},
   "source": [
    "# Total Optimizers =>\n",
    "In deep learning, optimizers are algorithms used to update the parameters of a neural network model during the training\n",
    "process. They play a crucial role in minimizing the loss function and improving the accuracy of the model. Here are several\n",
    "popular optimizers along with their explanations:\n",
    "\n",
    "(1). Stochastic Gradient Descent (SGD):\n",
    "\n",
    "SGD is one of the simplest optimizers. It updates the parameters in the direction of the negative gradient of the loss function\n",
    "with respect to the current mini-batch of training data. However, SGD has a limitation of converging slowly and can get stuck in\n",
    "local minima.\n",
    "\n",
    "(2). Momentum:\n",
    "\n",
    "The Momentum optimizer builds upon SGD by adding a momentum term. It accumulates a fraction of the previous gradients to\n",
    "determine the direction of the update. This helps to accelerate convergence and navigate through flat regions and local\n",
    "minima.\n",
    "\n",
    "(3). Nesterov Accelerated Gradient (NAG):\n",
    "\n",
    "NAG is an improvement over the Momentum optimizer. It calculates the gradient not only based on the current parameters but\n",
    "also using an estimate of the future parameters. By looking ahead, NAG allows the optimizer to better anticipate the\n",
    "momentum's effect and adjust its update accordingly.\n",
    "\n",
    "(4). AdaGrad:\n",
    "\n",
    "AdaGrad adapts the learning rate for each parameter based on the historical gradients. It increases the learning rate for\n",
    "infrequent features and decreases it for frequent ones. This makes AdaGrad well-suited for sparse data but can cause the\n",
    "learning rate to become too small over time.\n",
    "\n",
    "(5). RMSprop:\n",
    "\n",
    "RMSprop addresses the diminishing learning rate issue of AdaGrad by introducing an exponentially decaying average of\n",
    "squared gradients. By keeping a moving average of the squared gradients, RMSprop normalizes the learning rates and\n",
    "improve convergence.\n",
    "\n",
    "(6). Adam (Adaptive Moment Estimation):\n",
    "\n",
    "Adam combines the concepts of momentum and RMSprop. It maintains an exponentially decaying average of past gradients\n",
    "and squared gradients. Adam uses bias correction to account for the initialization bias in the first few iterations, making it\n",
    "perform well in practice across different deep learning tasks.\n"
   ]
  },
  {
   "cell_type": "code",
   "execution_count": null,
   "id": "ed5b09b8-4951-4060-83c4-91a5fc88b1ac",
   "metadata": {},
   "outputs": [],
   "source": []
  }
 ],
 "metadata": {
  "kernelspec": {
   "display_name": "Python 3 (ipykernel)",
   "language": "python",
   "name": "python3"
  },
  "language_info": {
   "codemirror_mode": {
    "name": "ipython",
    "version": 3
   },
   "file_extension": ".py",
   "mimetype": "text/x-python",
   "name": "python",
   "nbconvert_exporter": "python",
   "pygments_lexer": "ipython3",
   "version": "3.13.3"
  }
 },
 "nbformat": 4,
 "nbformat_minor": 5
}
