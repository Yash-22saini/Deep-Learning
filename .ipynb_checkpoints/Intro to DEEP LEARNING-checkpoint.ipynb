{
 "cells": [
  {
   "cell_type": "code",
   "execution_count": null,
   "id": "68468d4e-b1ee-4491-8511-c0fe34f6ddf7",
   "metadata": {},
   "outputs": [],
   "source": [
    "# Introduction to Deep Learning\n",
    "# (1). when complexity is high --- > use DL\n",
    "# (2). In ML , we can decide what tpye of dtaa we are using , what will be the output ,\n",
    "# what is the process but in Deep Learning , we can have only input and output data it is using\n",
    "# hidden layers for processing the data so that's why it is considered as 'Representative Learning' "
   ]
  },
  {
   "cell_type": "code",
   "execution_count": null,
   "id": "8df1a5a1-15dd-45a1-8642-d542af644548",
   "metadata": {},
   "outputs": [],
   "source": [
    "# Workflow of ML\n",
    "# Data Ingestion --- > Data Cleaning and Preprocessing --- > Model training --- > Model Prediction --- >\n",
    "# Performance Evalution ."
   ]
  },
  {
   "cell_type": "code",
   "execution_count": 1,
   "id": "4d2306e9-ecf0-4eb7-baab-bfaa92ca4e16",
   "metadata": {},
   "outputs": [],
   "source": [
    "# Workflow of Deep Learning --- >\n",
    "# Data Ingestion --- > Data Cleaning and Preprocessing --- >\n",
    "# Model Sequential (\n",
    "# input_layer(Neurons , Activation_function , input_dimension=data.shape) ,\n",
    "# hidden_layer(Neurons , Activation_function) ,\n",
    "#output_layer(Neurons , Activation_function)\n",
    "# )\n",
    "\n",
    "# Model.compile(loss_function , optimizer , metrics) --- >\n",
    "# Model.fit(x_train , y_train) 'Model training process'\n",
    "# Model Prediction --- > Calculate (loss , Accuracy) ."
   ]
  },
  {
   "cell_type": "code",
   "execution_count": 2,
   "id": "750192f0-2d13-4028-bbdf-274133fe402c",
   "metadata": {},
   "outputs": [],
   "source": [
    "# Student_id     (.)x11 -------- >\n",
    "                                   # (.)x21-------->\n",
    "# cgpa           (.)x12 ------ >                      (.)x31 ------ > Result (y)\n",
    "                                   # (.)x22-------->\n",
    "# resume_score    (.)x13 ------ > \n",
    "                  # input_layer    ##Hidden layer      ##output_layer"
   ]
  },
  {
   "cell_type": "code",
   "execution_count": 3,
   "id": "7fed3637-fc31-4d2a-bf38-97d8e7051e4d",
   "metadata": {},
   "outputs": [],
   "source": [
    "# Chain Rule\n",
    "# dy/dx1-1 = dy/x3-1 * dx3-1/dx2-1 * dx2-1/dx1-1\n",
    "\n",
    "# dy/dx1-2 = (dy/dx3-1 * dx3-1/dx2-1 * dx2-1/dx1-2)  + (dy/dx3-1 * dx3-1/dx2-2 * dx2-2/dx1-2)\n",
    "\n",
    "# dy/dx13= (dy/dx31 * dx31/dx21 * dx21/dx13) + (dy/dx31 * dx31/dx22 *d x22/dx13)"
   ]
  },
  {
   "cell_type": "code",
   "execution_count": 1,
   "id": "3e61a049-05dd-4a84-af57-13b1d9003063",
   "metadata": {},
   "outputs": [],
   "source": [
    "# Loss Function ---- > Distance between Actual value and Predicted value .\n",
    "# In terms of regression --- > MSE , MAE\n",
    "# In terms of classification --- >\n",
    "# case-1 : when we have 2 sub-categories in target column --- > Binarycrossentropy\n",
    "# case-2: when we have more than 2 sub-categories in target column --- > SparseCategoricalCrossEntropy ,\n",
    "# CategoricalCrossEntropy |\n"
   ]
  },
  {
   "cell_type": "code",
   "execution_count": null,
   "id": "613d43c7-5fd9-4c99-918e-9472f14035ae",
   "metadata": {},
   "outputs": [],
   "source": []
  }
 ],
 "metadata": {
  "kernelspec": {
   "display_name": "Python 3 (ipykernel)",
   "language": "python",
   "name": "python3"
  },
  "language_info": {
   "codemirror_mode": {
    "name": "ipython",
    "version": 3
   },
   "file_extension": ".py",
   "mimetype": "text/x-python",
   "name": "python",
   "nbconvert_exporter": "python",
   "pygments_lexer": "ipython3",
   "version": "3.13.3"
  }
 },
 "nbformat": 4,
 "nbformat_minor": 5
}
