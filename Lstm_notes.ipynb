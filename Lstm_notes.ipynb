{
  "nbformat": 4,
  "nbformat_minor": 0,
  "metadata": {
    "colab": {
      "provenance": []
    },
    "kernelspec": {
      "name": "python3",
      "display_name": "Python 3"
    },
    "language_info": {
      "name": "python"
    }
  },
  "cells": [
    {
      "cell_type": "markdown",
      "source": [
        "LSTM (Long Short-Term Memory) is a type of Recurrent Neural Network (RNN) designed to capture long-term dependencies in sequential data.\n",
        "It solves the vanishing and exploding gradient problem that standard RNNs face.\n",
        "Used in tasks like:\n",
        "\n",
        "Time series forecasting\n",
        "\n",
        "Text generation\n",
        "\n",
        "Speech recognition\n",
        "\n",
        "Sentiment analysis"
      ],
      "metadata": {
        "id": "5p3PRP26qbMR"
      }
    },
    {
      "cell_type": "markdown",
      "source": [
        "It solves the vanishing gradient problem, which prevents RNNs from learning long-term dependencies due to gradients shrinking during backpropagation through time (BPTT)."
      ],
      "metadata": {
        "id": "i10ta0dHqf9A"
      }
    },
    {
      "cell_type": "markdown",
      "source": [
        " variations or advanced versions of LSTM\n",
        "\n",
        "Bidirectional LSTM (BiLSTM): Reads sequence forward and backward.\n",
        "\n",
        "Stacked LSTM: Multiple LSTM layers for deeper representations.\n",
        "\n",
        "ConvLSTM: Combines CNN + LSTM for spatiotemporal data (e.g., video).\n",
        "\n",
        "Attention-based LSTM: Adds attention mechanism for context focus."
      ],
      "metadata": {
        "id": "t-UiqPlyqrhK"
      }
    },
    {
      "cell_type": "markdown",
      "source": [
        "Advantages\n",
        "\n",
        " Handles long-term dependencies\n",
        "\n",
        " Mitigates vanishing/exploding gradient issues\n",
        "\n",
        " Suitable for variable-length input sequences\n",
        "\n",
        " Works well for sequential and temporal data\n",
        "\n",
        " Retains context information over long sequences"
      ],
      "metadata": {
        "id": "beXYbWyGrKE2"
      }
    },
    {
      "cell_type": "code",
      "source": [],
      "metadata": {
        "id": "4UZvsyNQrOYM"
      },
      "execution_count": null,
      "outputs": []
    }
  ]
}