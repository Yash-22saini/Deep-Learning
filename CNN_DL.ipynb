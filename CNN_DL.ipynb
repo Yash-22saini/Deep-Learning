{
  "nbformat": 4,
  "nbformat_minor": 0,
  "metadata": {
    "colab": {
      "provenance": []
    },
    "kernelspec": {
      "name": "python3",
      "display_name": "Python 3"
    },
    "language_info": {
      "name": "python"
    }
  },
  "cells": [
    {
      "cell_type": "code",
      "execution_count": 1,
      "metadata": {
        "id": "zI7yIAM6CM9J"
      },
      "outputs": [],
      "source": [
        "# CNN --- > Convolutional Neural Networks\n",
        "# It is used for image related processing .\n",
        "\n",
        "# Image --- > pixels ----->(0-255)px\n",
        "# OPx -- > black\n",
        "# 255 Px --- > white\n",
        "\n",
        "# black & white Images ---- > height , width\n",
        "# colorfull Images --- > height , width, color_channel(RGB)\n",
        "# We can convert our images into grayscale images . 127.5 px\n",
        "\n",
        "# Im1 = (120,130,3)\n",
        "# Im2 = (130,150,3)\n",
        "# Padding ----> Add zeros in image matrix .\n",
        "# Pre-padding----- > It will add zeros in startimg of an matrix .\n",
        "# Post- padding -----> it will add zeroes in end of an matrix.\n"
      ]
    },
    {
      "cell_type": "code",
      "source": [
        "import numpy as np"
      ],
      "metadata": {
        "id": "HYb3HgbTITKl"
      },
      "execution_count": 2,
      "outputs": []
    },
    {
      "cell_type": "code",
      "source": [
        "a = np.random.randint(1,12,9).reshape(3,3)\n",
        "#a"
      ],
      "metadata": {
        "id": "FRjaKbxBIVD4"
      },
      "execution_count": 21,
      "outputs": []
    },
    {
      "cell_type": "code",
      "source": [
        "# example array --- array([[10, 9, 6],\n",
        " #                       [ 6, 10, 5],\n",
        "  #                      [ 1, 11, 1]])"
      ],
      "metadata": {
        "id": "TXeqIPbqIeNB"
      },
      "execution_count": 22,
      "outputs": []
    },
    {
      "cell_type": "code",
      "source": [
        "# Pooling layers --- > This is regularization technique in which it will reduce overfitting\n",
        "# from data .\n",
        "# MaxPooling --- >"
      ],
      "metadata": {
        "id": "6F9krapbJMug"
      },
      "execution_count": 23,
      "outputs": []
    },
    {
      "cell_type": "code",
      "source": [
        "# stride = 1 , filter/kernel = (2,2)\n",
        "\n",
        "# step-1 [10,9,6,10]    ---- > [10] [6]\n",
        "# step-2 [9,6,10,5]     ---->  [10] [5]\n",
        "# step-3 [6,10,1,11]    ---- > [11] [1]\n",
        "# step-4 [10,5,11,1]     --- > [11] [1]\n",
        "\n",
        "# MaxPooling layer --- > [10,10,11,11]\n",
        "# MinPooling layer ---- > [6,5,1,1]\n",
        "# GlobalAveragePooling Layer"
      ],
      "metadata": {
        "id": "P2Erl118JNZ-"
      },
      "execution_count": 24,
      "outputs": []
    },
    {
      "cell_type": "code",
      "source": [
        "# Workflow of CNN\n",
        "\n",
        "# Data Ingestion---- > Data Cleaning and Preprocessing --- >\n",
        "# Model Sequential(\n",
        "# CNN_layer1 ,\n",
        "# CNN_layer2,\n",
        "# Flatten layer ,\n",
        "# Dense layer\n",
        "# )\n",
        "\n",
        "# Model.compile(loss . optimizers . metrics)\n",
        "# Model.training\n",
        "# Model.Evaluation\n",
        "\n",
        "\n",
        "\n",
        "\n"
      ],
      "metadata": {
        "id": "yiFXZ6u4Joi-"
      },
      "execution_count": 25,
      "outputs": []
    },
    {
      "cell_type": "code",
      "source": [],
      "metadata": {
        "id": "EAchwE7wLI09"
      },
      "execution_count": null,
      "outputs": []
    }
  ]
}